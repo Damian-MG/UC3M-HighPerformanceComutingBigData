{
  "cells": [
    {
      "cell_type": "markdown",
      "metadata": {
        "id": "fqxMGp02In_9"
      },
      "source": [
        "# PySpark assignment"
      ]
    },
    {
      "cell_type": "markdown",
      "metadata": {
        "id": "8U1i7C70UHUO"
      },
      "source": [
        "PySpark setup"
      ]
    },
    {
      "cell_type": "code",
      "execution_count": 1,
      "metadata": {
        "id": "UNQOAdL6jP4t"
      },
      "outputs": [],
      "source": [
        "__author__      = \"DAMIAN Maleno, NEREA Izcue, PABLO Alonso \"\n",
        "__credits__     = [\"Damian Maleno\", \"Nerea Izcue\", \"Pablo Alonso\"]\n",
        "__version__     = \"1.0\"\n",
        "__email__       = [\"100484916@alumnos.uc3m.es\",\"100492040@alumnos.uc3m.es\",\"100483840@alumnos.uc3m.es\"]\n",
        "__status__      = \"In dev\""
      ]
    },
    {
      "cell_type": "code",
      "execution_count": 2,
      "metadata": {
        "id": "wz39POQLI2a0"
      },
      "outputs": [],
      "source": [
        "!apt-get install openjdk-8-jdk-headless -qq > /dev/null\n",
        "!wget -q https://dlcdn.apache.org/spark/spark-3.1.3/spark-3.1.3-bin-hadoop3.2.tgz\n",
        "!tar xf spark-3.1.3-bin-hadoop3.2.tgz\n",
        "!pip install -q findspark"
      ]
    },
    {
      "cell_type": "code",
      "execution_count": 3,
      "metadata": {
        "id": "eRdIoFWvI4pM"
      },
      "outputs": [],
      "source": [
        "import os\n",
        "os.environ[\"JAVA_HOME\"] = \"/usr/lib/jvm/java-8-openjdk-amd64\"\n",
        "os.environ[\"SPARK_HOME\"] = \"/content/spark-3.1.3-bin-hadoop3.2\""
      ]
    },
    {
      "cell_type": "code",
      "execution_count": 4,
      "metadata": {
        "id": "HHPL82UFI9Ga"
      },
      "outputs": [],
      "source": [
        "import findspark\n",
        "findspark.init()"
      ]
    },
    {
      "cell_type": "code",
      "execution_count": 5,
      "metadata": {
        "colab": {
          "base_uri": "https://localhost:8080/",
          "height": 219
        },
        "id": "wb3ZXZEsMQ3I",
        "outputId": "663a4b5f-60e0-4b1b-bd54-911cbf7df559"
      },
      "outputs": [
        {
          "data": {
            "text/html": [
              "\n",
              "            <div>\n",
              "                <p><b>SparkSession - in-memory</b></p>\n",
              "                \n",
              "        <div>\n",
              "            <p><b>SparkContext</b></p>\n",
              "\n",
              "            <p><a href=\"http://d43c1b6672d4:4040\">Spark UI</a></p>\n",
              "\n",
              "            <dl>\n",
              "              <dt>Version</dt>\n",
              "                <dd><code>v3.1.3</code></dd>\n",
              "              <dt>Master</dt>\n",
              "                <dd><code>local[*]</code></dd>\n",
              "              <dt>AppName</dt>\n",
              "                <dd><code>pyspark-shell</code></dd>\n",
              "            </dl>\n",
              "        </div>\n",
              "        \n",
              "            </div>\n",
              "        "
            ],
            "text/plain": [
              "<pyspark.sql.session.SparkSession at 0x7f5581eb4a90>"
            ]
          },
          "execution_count": 5,
          "metadata": {},
          "output_type": "execute_result"
        }
      ],
      "source": [
        "# JUST RUN THIS ONCE\n",
        "from pyspark.sql import SparkSession\n",
        "from pyspark import SparkContext, SparkConf\n",
        "\n",
        "# # Con esto lo que hacemos es iniciar la aplicación en el notebook\n",
        "# conf = SparkConf().set('spark.ui.port', '4050')\n",
        "# # Creamos el contexto de spark\n",
        "# sc = SparkContext(conf=conf)\n",
        "conf = SparkConf().setAll([('spark.executor.memory', '1g'), \\\n",
        "                                        ('spark.app.name', 'Spark Updated Conf'), \\\n",
        "                                        ('spark.executor.cores', '1'), \\\n",
        "                                        ('spark.cores.max', '2')]) # cambiar este para pasar a dos cores '1' -> '2'\n",
        "# Creamos la sesión de spark\n",
        "spark = SparkSession.builder.master('local[*]').getOrCreate()\n",
        "# Local[*] is the ressource manager, with the brackets we specify how many cores we want (the max number of parallel ask we want to execute)\n",
        "# * means everything, all the available ressources, we could switch that for yarn, or an URI (location of a spark installation)\n",
        "\n",
        "spark"
      ]
    },
    {
      "cell_type": "markdown",
      "metadata": {
        "id": "E7tT8rzUK19c"
      },
      "source": [
        "## CSV read: data extraction and cleansing\n",
        "The first step is reading the dataset called 'tripdata_2017-01.csv'. For doing so, we give the format (in our case .csv) and set the different options."
      ]
    },
    {
      "cell_type": "code",
      "execution_count": 6,
      "metadata": {
        "id": "_aqQuH8rKWBX"
      },
      "outputs": [],
      "source": [
        "df = spark.read.format(\"csv\").option(\"inferSchema\", \"true\").option(\"timestampFormat\",\"yyyy-MM-dd HH:mm:ss\").option(\"header\", \"true\").option(\"mode\", \"DROPMALFORMED\").load(\"tripdata_2017-01.csv\")"
      ]
    },
    {
      "cell_type": "code",
      "execution_count": 7,
      "metadata": {
        "colab": {
          "base_uri": "https://localhost:8080/"
        },
        "id": "xm-JNffvOKr-",
        "outputId": "ab4e773d-b308-47c2-d7e6-67c557dd276e"
      },
      "outputs": [
        {
          "name": "stdout",
          "output_type": "stream",
          "text": [
            "+--------+--------------------+---------------------+---------------+-------------+----------+------------------+------------+------------+------------+-----------+-----+-------+----------+------------+---------------------+------------+\n",
            "|VendorID|tpep_pickup_datetime|tpep_dropoff_datetime|passenger_count|trip_distance|RatecodeID|store_and_fwd_flag|PULocationID|DOLocationID|payment_type|fare_amount|extra|mta_tax|tip_amount|tolls_amount|improvement_surcharge|total_amount|\n",
            "+--------+--------------------+---------------------+---------------+-------------+----------+------------------+------------+------------+------------+-----------+-----+-------+----------+------------+---------------------+------------+\n",
            "|       1| 2017-01-09 11:13:28|  2017-01-09 11:25:45|              1|          3.3|         1|                 N|         263|         161|           1|       12.5|  0.0|    0.5|       2.0|         0.0|                  0.3|        15.3|\n",
            "|       1| 2017-01-09 11:32:27|  2017-01-09 11:36:01|              1|          0.9|         1|                 N|         186|         234|           1|        5.0|  0.0|    0.5|      1.45|         0.0|                  0.3|        7.25|\n",
            "|       1| 2017-01-09 11:38:20|  2017-01-09 11:42:05|              1|          1.1|         1|                 N|         164|         161|           1|        5.5|  0.0|    0.5|       1.0|         0.0|                  0.3|         7.3|\n",
            "|       1| 2017-01-09 11:52:13|  2017-01-09 11:57:36|              1|          1.1|         1|                 N|         236|          75|           1|        6.0|  0.0|    0.5|       1.7|         0.0|                  0.3|         8.5|\n",
            "|       2| 2017-01-01 00:00:00|  2017-01-01 00:00:00|              1|         0.02|         2|                 N|         249|         234|           2|       52.0|  0.0|    0.5|       0.0|         0.0|                  0.3|        52.8|\n",
            "|       1| 2017-01-01 00:00:02|  2017-01-01 00:03:50|              1|          0.5|         1|                 N|          48|          48|           2|        4.0|  0.5|    0.5|       0.0|         0.0|                  0.3|         5.3|\n",
            "|       2| 2017-01-01 00:00:02|  2017-01-01 00:39:22|              4|         7.75|         1|                 N|         186|          36|           1|       22.0|  0.5|    0.5|      4.66|         0.0|                  0.3|       27.96|\n",
            "|       1| 2017-01-01 00:00:03|  2017-01-01 00:06:58|              1|          0.8|         1|                 N|         162|         161|           1|        6.0|  0.5|    0.5|      1.45|         0.0|                  0.3|        8.75|\n",
            "|       1| 2017-01-01 00:00:05|  2017-01-01 00:08:33|              2|          0.9|         1|                 N|          48|          50|           1|        7.0|  0.5|    0.5|       0.0|         0.0|                  0.3|         8.3|\n",
            "|       2| 2017-01-01 00:00:05|  2017-01-01 00:05:04|              5|         1.76|         1|                 N|         140|          74|           2|        7.0|  0.5|    0.5|       0.0|         0.0|                  0.3|         8.3|\n",
            "+--------+--------------------+---------------------+---------------+-------------+----------+------------------+------------+------------+------------+-----------+-----+-------+----------+------------+---------------------+------------+\n",
            "only showing top 10 rows\n",
            "\n"
          ]
        }
      ],
      "source": [
        "df.show(10)"
      ]
    },
    {
      "cell_type": "markdown",
      "metadata": {
        "id": "sWbjoeRuIk3G"
      },
      "source": [
        "We calculate the number of rows of the dataframe."
      ]
    },
    {
      "cell_type": "code",
      "execution_count": 8,
      "metadata": {
        "colab": {
          "base_uri": "https://localhost:8080/"
        },
        "id": "zmlII8hqS7ED",
        "outputId": "c2f306ce-9303-4bda-f3d0-f97035d3c034"
      },
      "outputs": [
        {
          "data": {
            "text/plain": [
              "971010"
            ]
          },
          "execution_count": 8,
          "metadata": {},
          "output_type": "execute_result"
        }
      ],
      "source": [
        "df.count()"
      ]
    },
    {
      "cell_type": "code",
      "execution_count": 9,
      "metadata": {
        "colab": {
          "base_uri": "https://localhost:8080/"
        },
        "id": "l7QEHaTBQBq3",
        "outputId": "7bf46c6e-298a-4803-8a25-cd1bf4771ec2"
      },
      "outputs": [
        {
          "name": "stdout",
          "output_type": "stream",
          "text": [
            "root\n",
            " |-- VendorID: integer (nullable = true)\n",
            " |-- tpep_pickup_datetime: timestamp (nullable = true)\n",
            " |-- tpep_dropoff_datetime: timestamp (nullable = true)\n",
            " |-- passenger_count: integer (nullable = true)\n",
            " |-- trip_distance: double (nullable = true)\n",
            " |-- RatecodeID: integer (nullable = true)\n",
            " |-- store_and_fwd_flag: string (nullable = true)\n",
            " |-- PULocationID: integer (nullable = true)\n",
            " |-- DOLocationID: integer (nullable = true)\n",
            " |-- payment_type: integer (nullable = true)\n",
            " |-- fare_amount: double (nullable = true)\n",
            " |-- extra: double (nullable = true)\n",
            " |-- mta_tax: double (nullable = true)\n",
            " |-- tip_amount: double (nullable = true)\n",
            " |-- tolls_amount: double (nullable = true)\n",
            " |-- improvement_surcharge: double (nullable = true)\n",
            " |-- total_amount: double (nullable = true)\n",
            "\n"
          ]
        }
      ],
      "source": [
        "df.printSchema()"
      ]
    },
    {
      "cell_type": "markdown",
      "metadata": {
        "id": "UDW7GyS8f0ew"
      },
      "source": [
        "We remove the rows with null values."
      ]
    },
    {
      "cell_type": "code",
      "execution_count": 10,
      "metadata": {
        "colab": {
          "base_uri": "https://localhost:8080/"
        },
        "id": "B1VJSDiHQHbd",
        "outputId": "8826560b-957a-4dd7-a741-bc29b231502d"
      },
      "outputs": [
        {
          "data": {
            "text/plain": [
              "971010"
            ]
          },
          "execution_count": 10,
          "metadata": {},
          "output_type": "execute_result"
        }
      ],
      "source": [
        "df_no_null = df.na.drop()\n",
        "type(df.na)\n",
        "df.count()"
      ]
    },
    {
      "cell_type": "markdown",
      "metadata": {
        "id": "Eha7O6Z4I0r9"
      },
      "source": [
        "Let's start **cleaning** the data. We have some wrong data that we must remove before starting the assignment. For example, it makes no sense to have trips that starts and end at the same time."
      ]
    },
    {
      "cell_type": "code",
      "execution_count": 11,
      "metadata": {
        "colab": {
          "base_uri": "https://localhost:8080/"
        },
        "id": "NGKyWw4sSD7J",
        "outputId": "8fadc95e-7abf-4c5e-ee4a-aec863794ff6"
      },
      "outputs": [
        {
          "name": "stdout",
          "output_type": "stream",
          "text": [
            "+--------+--------------------+---------------------+---------------+-------------+----------+------------------+------------+------------+------------+-----------+-----+-------+----------+------------+---------------------+------------+\n",
            "|VendorID|tpep_pickup_datetime|tpep_dropoff_datetime|passenger_count|trip_distance|RatecodeID|store_and_fwd_flag|PULocationID|DOLocationID|payment_type|fare_amount|extra|mta_tax|tip_amount|tolls_amount|improvement_surcharge|total_amount|\n",
            "+--------+--------------------+---------------------+---------------+-------------+----------+------------------+------------+------------+------------+-----------+-----+-------+----------+------------+---------------------+------------+\n",
            "|       1| 2017-01-09 11:13:28|  2017-01-09 11:25:45|              1|          3.3|         1|                 N|         263|         161|           1|       12.5|  0.0|    0.5|       2.0|         0.0|                  0.3|        15.3|\n",
            "|       1| 2017-01-09 11:32:27|  2017-01-09 11:36:01|              1|          0.9|         1|                 N|         186|         234|           1|        5.0|  0.0|    0.5|      1.45|         0.0|                  0.3|        7.25|\n",
            "|       1| 2017-01-09 11:38:20|  2017-01-09 11:42:05|              1|          1.1|         1|                 N|         164|         161|           1|        5.5|  0.0|    0.5|       1.0|         0.0|                  0.3|         7.3|\n",
            "|       1| 2017-01-09 11:52:13|  2017-01-09 11:57:36|              1|          1.1|         1|                 N|         236|          75|           1|        6.0|  0.0|    0.5|       1.7|         0.0|                  0.3|         8.5|\n",
            "|       1| 2017-01-01 00:00:02|  2017-01-01 00:03:50|              1|          0.5|         1|                 N|          48|          48|           2|        4.0|  0.5|    0.5|       0.0|         0.0|                  0.3|         5.3|\n",
            "|       2| 2017-01-01 00:00:02|  2017-01-01 00:39:22|              4|         7.75|         1|                 N|         186|          36|           1|       22.0|  0.5|    0.5|      4.66|         0.0|                  0.3|       27.96|\n",
            "|       1| 2017-01-01 00:00:03|  2017-01-01 00:06:58|              1|          0.8|         1|                 N|         162|         161|           1|        6.0|  0.5|    0.5|      1.45|         0.0|                  0.3|        8.75|\n",
            "|       1| 2017-01-01 00:00:05|  2017-01-01 00:08:33|              2|          0.9|         1|                 N|          48|          50|           1|        7.0|  0.5|    0.5|       0.0|         0.0|                  0.3|         8.3|\n",
            "|       2| 2017-01-01 00:00:05|  2017-01-01 00:05:04|              5|         1.76|         1|                 N|         140|          74|           2|        7.0|  0.5|    0.5|       0.0|         0.0|                  0.3|         8.3|\n",
            "|       2| 2017-01-01 00:00:05|  2017-01-01 00:15:36|              1|         8.47|         1|                 N|         138|         262|           1|       24.0|  0.5|    0.5|      7.71|        5.54|                  0.3|       38.55|\n",
            "+--------+--------------------+---------------------+---------------+-------------+----------+------------------+------------+------------+------------+-----------+-----+-------+----------+------------+---------------------+------------+\n",
            "only showing top 10 rows\n",
            "\n"
          ]
        }
      ],
      "source": [
        "# Remove rows where time_start = time_end\n",
        "df_correct_times = df_no_null.where(df_no_null['tpep_pickup_datetime'] != df_no_null['tpep_dropoff_datetime'])\n",
        "df_correct_times.show(10)"
      ]
    },
    {
      "cell_type": "markdown",
      "metadata": {
        "id": "6Fr2uUSzKYAE"
      },
      "source": [
        "Also, we remove the rows with distance=0."
      ]
    },
    {
      "cell_type": "code",
      "execution_count": 12,
      "metadata": {
        "colab": {
          "base_uri": "https://localhost:8080/"
        },
        "id": "SrYxKJMVSeIv",
        "outputId": "236a1dbc-2c35-427f-80c9-381a259ff79c"
      },
      "outputs": [
        {
          "name": "stdout",
          "output_type": "stream",
          "text": [
            "+--------+--------------------+---------------------+---------------+-------------+----------+------------------+------------+------------+------------+-----------+-----+-------+----------+------------+---------------------+------------+\n",
            "|VendorID|tpep_pickup_datetime|tpep_dropoff_datetime|passenger_count|trip_distance|RatecodeID|store_and_fwd_flag|PULocationID|DOLocationID|payment_type|fare_amount|extra|mta_tax|tip_amount|tolls_amount|improvement_surcharge|total_amount|\n",
            "+--------+--------------------+---------------------+---------------+-------------+----------+------------------+------------+------------+------------+-----------+-----+-------+----------+------------+---------------------+------------+\n",
            "|       1| 2017-01-09 11:13:28|  2017-01-09 11:25:45|              1|          3.3|         1|                 N|         263|         161|           1|       12.5|  0.0|    0.5|       2.0|         0.0|                  0.3|        15.3|\n",
            "|       1| 2017-01-09 11:32:27|  2017-01-09 11:36:01|              1|          0.9|         1|                 N|         186|         234|           1|        5.0|  0.0|    0.5|      1.45|         0.0|                  0.3|        7.25|\n",
            "|       1| 2017-01-09 11:38:20|  2017-01-09 11:42:05|              1|          1.1|         1|                 N|         164|         161|           1|        5.5|  0.0|    0.5|       1.0|         0.0|                  0.3|         7.3|\n",
            "|       1| 2017-01-09 11:52:13|  2017-01-09 11:57:36|              1|          1.1|         1|                 N|         236|          75|           1|        6.0|  0.0|    0.5|       1.7|         0.0|                  0.3|         8.5|\n",
            "|       1| 2017-01-01 00:00:02|  2017-01-01 00:03:50|              1|          0.5|         1|                 N|          48|          48|           2|        4.0|  0.5|    0.5|       0.0|         0.0|                  0.3|         5.3|\n",
            "|       2| 2017-01-01 00:00:02|  2017-01-01 00:39:22|              4|         7.75|         1|                 N|         186|          36|           1|       22.0|  0.5|    0.5|      4.66|         0.0|                  0.3|       27.96|\n",
            "|       1| 2017-01-01 00:00:03|  2017-01-01 00:06:58|              1|          0.8|         1|                 N|         162|         161|           1|        6.0|  0.5|    0.5|      1.45|         0.0|                  0.3|        8.75|\n",
            "|       1| 2017-01-01 00:00:05|  2017-01-01 00:08:33|              2|          0.9|         1|                 N|          48|          50|           1|        7.0|  0.5|    0.5|       0.0|         0.0|                  0.3|         8.3|\n",
            "|       2| 2017-01-01 00:00:05|  2017-01-01 00:05:04|              5|         1.76|         1|                 N|         140|          74|           2|        7.0|  0.5|    0.5|       0.0|         0.0|                  0.3|         8.3|\n",
            "|       2| 2017-01-01 00:00:05|  2017-01-01 00:15:36|              1|         8.47|         1|                 N|         138|         262|           1|       24.0|  0.5|    0.5|      7.71|        5.54|                  0.3|       38.55|\n",
            "+--------+--------------------+---------------------+---------------+-------------+----------+------------------+------------+------------+------------+-----------+-----+-------+----------+------------+---------------------+------------+\n",
            "only showing top 10 rows\n",
            "\n"
          ]
        }
      ],
      "source": [
        "df_correct_distance = df_correct_times.where(df_correct_times['trip_distance'] != 0)\n",
        "df_correct_distance.show(10)"
      ]
    },
    {
      "cell_type": "markdown",
      "metadata": {
        "id": "jHBOcP8IMHfQ"
      },
      "source": [
        "We also remove the rows that have trips without passengers, so we don't keep them."
      ]
    },
    {
      "cell_type": "code",
      "execution_count": 13,
      "metadata": {
        "colab": {
          "base_uri": "https://localhost:8080/"
        },
        "id": "eJVW2-rqVyv8",
        "outputId": "2d400698-f0e9-4b2e-a59b-80cda8da18aa"
      },
      "outputs": [
        {
          "name": "stdout",
          "output_type": "stream",
          "text": [
            "+--------+--------------------+---------------------+---------------+-------------+----------+------------------+------------+------------+------------+-----------+-----+-------+----------+------------+---------------------+------------+\n",
            "|VendorID|tpep_pickup_datetime|tpep_dropoff_datetime|passenger_count|trip_distance|RatecodeID|store_and_fwd_flag|PULocationID|DOLocationID|payment_type|fare_amount|extra|mta_tax|tip_amount|tolls_amount|improvement_surcharge|total_amount|\n",
            "+--------+--------------------+---------------------+---------------+-------------+----------+------------------+------------+------------+------------+-----------+-----+-------+----------+------------+---------------------+------------+\n",
            "|       1| 2017-01-09 11:13:28|  2017-01-09 11:25:45|              1|          3.3|         1|                 N|         263|         161|           1|       12.5|  0.0|    0.5|       2.0|         0.0|                  0.3|        15.3|\n",
            "|       1| 2017-01-09 11:32:27|  2017-01-09 11:36:01|              1|          0.9|         1|                 N|         186|         234|           1|        5.0|  0.0|    0.5|      1.45|         0.0|                  0.3|        7.25|\n",
            "|       1| 2017-01-09 11:38:20|  2017-01-09 11:42:05|              1|          1.1|         1|                 N|         164|         161|           1|        5.5|  0.0|    0.5|       1.0|         0.0|                  0.3|         7.3|\n",
            "|       1| 2017-01-09 11:52:13|  2017-01-09 11:57:36|              1|          1.1|         1|                 N|         236|          75|           1|        6.0|  0.0|    0.5|       1.7|         0.0|                  0.3|         8.5|\n",
            "|       1| 2017-01-01 00:00:02|  2017-01-01 00:03:50|              1|          0.5|         1|                 N|          48|          48|           2|        4.0|  0.5|    0.5|       0.0|         0.0|                  0.3|         5.3|\n",
            "|       2| 2017-01-01 00:00:02|  2017-01-01 00:39:22|              4|         7.75|         1|                 N|         186|          36|           1|       22.0|  0.5|    0.5|      4.66|         0.0|                  0.3|       27.96|\n",
            "|       1| 2017-01-01 00:00:03|  2017-01-01 00:06:58|              1|          0.8|         1|                 N|         162|         161|           1|        6.0|  0.5|    0.5|      1.45|         0.0|                  0.3|        8.75|\n",
            "|       1| 2017-01-01 00:00:05|  2017-01-01 00:08:33|              2|          0.9|         1|                 N|          48|          50|           1|        7.0|  0.5|    0.5|       0.0|         0.0|                  0.3|         8.3|\n",
            "|       2| 2017-01-01 00:00:05|  2017-01-01 00:05:04|              5|         1.76|         1|                 N|         140|          74|           2|        7.0|  0.5|    0.5|       0.0|         0.0|                  0.3|         8.3|\n",
            "|       2| 2017-01-01 00:00:05|  2017-01-01 00:15:36|              1|         8.47|         1|                 N|         138|         262|           1|       24.0|  0.5|    0.5|      7.71|        5.54|                  0.3|       38.55|\n",
            "+--------+--------------------+---------------------+---------------+-------------+----------+------------------+------------+------------+------------+-----------+-----+-------+----------+------------+---------------------+------------+\n",
            "only showing top 10 rows\n",
            "\n"
          ]
        }
      ],
      "source": [
        "df_correct_passengers = df_correct_distance.where(df_correct_distance['passenger_count'] != 0)\n",
        "df_correct_passengers.show(10)"
      ]
    },
    {
      "cell_type": "markdown",
      "metadata": {
        "id": "czL4qMejMe-V"
      },
      "source": [
        "Finally, we are going to **remove the outliers** of the dataframe. We have done a descriptive analysis of the variables of the dataframe values on **R** to discover the different outliers. To get a dataframe free of outliers we implement a ***spark.sql query***  as shown:"
      ]
    },
    {
      "cell_type": "code",
      "execution_count": 14,
      "metadata": {
        "colab": {
          "base_uri": "https://localhost:8080/"
        },
        "id": "0hTkoYQUlRon",
        "outputId": "9e01b1c6-6aff-42b1-d82e-4c4283a61060"
      },
      "outputs": [
        {
          "data": {
            "text/plain": [
              "964710"
            ]
          },
          "execution_count": 14,
          "metadata": {},
          "output_type": "execute_result"
        }
      ],
      "source": [
        "# SQL querys are done over dataframes not rdd\n",
        "df_correct_passengers.createOrReplaceTempView('trips')\n",
        "# Remove outliers\n",
        "# Remove trips over 100 miles, tips over 100 dollars and total_amount over 10000\n",
        "df_outliers = spark.sql('SELECT * FROM trips WHERE trip_distance < 100 OR tip_amount < 100 OR total_amount < 600 OR total_amount > 0;')\n",
        "type(df_outliers)\n",
        "df_outliers.count()"
      ]
    },
    {
      "cell_type": "markdown",
      "metadata": {
        "id": "4cs6WXTMPCgC"
      },
      "source": [
        "Now, we **create new columns** that we will use on the future. First, we calculate the **time of the trip** as the difference between the time in which the trip started and the time the trip ended. We save this information in a **new column** called **ride_time**."
      ]
    },
    {
      "cell_type": "code",
      "execution_count": 15,
      "metadata": {
        "colab": {
          "base_uri": "https://localhost:8080/"
        },
        "id": "n6N_4nFCWHD3",
        "outputId": "3548d59b-d33a-4732-d804-a987e1d0158b"
      },
      "outputs": [
        {
          "name": "stdout",
          "output_type": "stream",
          "text": [
            "+--------+--------------------+---------------------+---------------+-------------+----------+------------------+------------+------------+------------+-----------+-----+-------+----------+------------+---------------------+------------+------------------+\n",
            "|VendorID|tpep_pickup_datetime|tpep_dropoff_datetime|passenger_count|trip_distance|RatecodeID|store_and_fwd_flag|PULocationID|DOLocationID|payment_type|fare_amount|extra|mta_tax|tip_amount|tolls_amount|improvement_surcharge|total_amount|         ride_time|\n",
            "+--------+--------------------+---------------------+---------------+-------------+----------+------------------+------------+------------+------------+-----------+-----+-------+----------+------------+---------------------+------------+------------------+\n",
            "|       1| 2017-01-09 11:13:28|  2017-01-09 11:25:45|              1|          3.3|         1|                 N|         263|         161|           1|       12.5|  0.0|    0.5|       2.0|         0.0|                  0.3|        15.3|12.283333335071802|\n",
            "|       1| 2017-01-09 11:32:27|  2017-01-09 11:36:01|              1|          0.9|         1|                 N|         186|         234|           1|        5.0|  0.0|    0.5|      1.45|         0.0|                  0.3|        7.25| 3.566666666418314|\n",
            "|       1| 2017-01-09 11:38:20|  2017-01-09 11:42:05|              1|          1.1|         1|                 N|         164|         161|           1|        5.5|  0.0|    0.5|       1.0|         0.0|                  0.3|         7.3|              3.75|\n",
            "|       1| 2017-01-09 11:52:13|  2017-01-09 11:57:36|              1|          1.1|         1|                 N|         236|          75|           1|        6.0|  0.0|    0.5|       1.7|         0.0|                  0.3|         8.5| 5.383333336561918|\n",
            "|       1| 2017-01-01 00:00:02|  2017-01-01 00:03:50|              1|          0.5|         1|                 N|          48|          48|           2|        4.0|  0.5|    0.5|       0.0|         0.0|                  0.3|         5.3|3.7999999970197678|\n",
            "|       2| 2017-01-01 00:00:02|  2017-01-01 00:39:22|              4|         7.75|         1|                 N|         186|          36|           1|       22.0|  0.5|    0.5|      4.66|         0.0|                  0.3|       27.96| 39.33333333209157|\n",
            "|       1| 2017-01-01 00:00:03|  2017-01-01 00:06:58|              1|          0.8|         1|                 N|         162|         161|           1|        6.0|  0.5|    0.5|      1.45|         0.0|                  0.3|        8.75|  6.91666666418314|\n",
            "|       1| 2017-01-01 00:00:05|  2017-01-01 00:08:33|              2|          0.9|         1|                 N|          48|          50|           1|        7.0|  0.5|    0.5|       0.0|         0.0|                  0.3|         8.3| 8.466666668653488|\n",
            "|       2| 2017-01-01 00:00:05|  2017-01-01 00:05:04|              5|         1.76|         1|                 N|         140|          74|           2|        7.0|  0.5|    0.5|       0.0|         0.0|                  0.3|         8.3| 4.983333334326744|\n",
            "|       2| 2017-01-01 00:00:05|  2017-01-01 00:15:36|              1|         8.47|         1|                 N|         138|         262|           1|       24.0|  0.5|    0.5|      7.71|        5.54|                  0.3|       38.55|15.516666669398546|\n",
            "+--------+--------------------+---------------------+---------------+-------------+----------+------------------+------------+------------+------------+-----------+-----+-------+----------+------------+---------------------+------------+------------------+\n",
            "only showing top 10 rows\n",
            "\n"
          ]
        }
      ],
      "source": [
        "from pyspark.sql.functions import *\n",
        "df_ride_time = df_outliers.withColumn('ride_time', unix_timestamp(df_correct_passengers['tpep_dropoff_datetime'])/60 - unix_timestamp(df_correct_passengers['tpep_pickup_datetime'])/60)\n",
        "df_ride_time.show(10)"
      ]
    },
    {
      "cell_type": "markdown",
      "metadata": {
        "id": "ESzLCsmZQTVu"
      },
      "source": [
        "Another new column, called **pick_hour**, is the **hour** in which the trip started (we are only interesting in the integer value of the hours)."
      ]
    },
    {
      "cell_type": "code",
      "execution_count": 16,
      "metadata": {
        "colab": {
          "base_uri": "https://localhost:8080/"
        },
        "id": "DBCc2yyOcjip",
        "outputId": "f692cbc6-eff6-42b9-c493-b6b0f7f441a9"
      },
      "outputs": [
        {
          "name": "stdout",
          "output_type": "stream",
          "text": [
            "+--------+--------------------+---------------------+---------------+-------------+----------+------------------+------------+------------+------------+-----------+-----+-------+----------+------------+---------------------+------------+------------------+---------+\n",
            "|VendorID|tpep_pickup_datetime|tpep_dropoff_datetime|passenger_count|trip_distance|RatecodeID|store_and_fwd_flag|PULocationID|DOLocationID|payment_type|fare_amount|extra|mta_tax|tip_amount|tolls_amount|improvement_surcharge|total_amount|         ride_time|pick_hour|\n",
            "+--------+--------------------+---------------------+---------------+-------------+----------+------------------+------------+------------+------------+-----------+-----+-------+----------+------------+---------------------+------------+------------------+---------+\n",
            "|       1| 2017-01-09 11:13:28|  2017-01-09 11:25:45|              1|          3.3|         1|                 N|         263|         161|           1|       12.5|  0.0|    0.5|       2.0|         0.0|                  0.3|        15.3|12.283333335071802|       11|\n",
            "|       1| 2017-01-09 11:32:27|  2017-01-09 11:36:01|              1|          0.9|         1|                 N|         186|         234|           1|        5.0|  0.0|    0.5|      1.45|         0.0|                  0.3|        7.25| 3.566666666418314|       11|\n",
            "|       1| 2017-01-09 11:38:20|  2017-01-09 11:42:05|              1|          1.1|         1|                 N|         164|         161|           1|        5.5|  0.0|    0.5|       1.0|         0.0|                  0.3|         7.3|              3.75|       11|\n",
            "|       1| 2017-01-09 11:52:13|  2017-01-09 11:57:36|              1|          1.1|         1|                 N|         236|          75|           1|        6.0|  0.0|    0.5|       1.7|         0.0|                  0.3|         8.5| 5.383333336561918|       11|\n",
            "|       1| 2017-01-01 00:00:02|  2017-01-01 00:03:50|              1|          0.5|         1|                 N|          48|          48|           2|        4.0|  0.5|    0.5|       0.0|         0.0|                  0.3|         5.3|3.7999999970197678|        0|\n",
            "|       2| 2017-01-01 00:00:02|  2017-01-01 00:39:22|              4|         7.75|         1|                 N|         186|          36|           1|       22.0|  0.5|    0.5|      4.66|         0.0|                  0.3|       27.96| 39.33333333209157|        0|\n",
            "|       1| 2017-01-01 00:00:03|  2017-01-01 00:06:58|              1|          0.8|         1|                 N|         162|         161|           1|        6.0|  0.5|    0.5|      1.45|         0.0|                  0.3|        8.75|  6.91666666418314|        0|\n",
            "|       1| 2017-01-01 00:00:05|  2017-01-01 00:08:33|              2|          0.9|         1|                 N|          48|          50|           1|        7.0|  0.5|    0.5|       0.0|         0.0|                  0.3|         8.3| 8.466666668653488|        0|\n",
            "|       2| 2017-01-01 00:00:05|  2017-01-01 00:05:04|              5|         1.76|         1|                 N|         140|          74|           2|        7.0|  0.5|    0.5|       0.0|         0.0|                  0.3|         8.3| 4.983333334326744|        0|\n",
            "|       2| 2017-01-01 00:00:05|  2017-01-01 00:15:36|              1|         8.47|         1|                 N|         138|         262|           1|       24.0|  0.5|    0.5|      7.71|        5.54|                  0.3|       38.55|15.516666669398546|        0|\n",
            "+--------+--------------------+---------------------+---------------+-------------+----------+------------------+------------+------------+------------+-----------+-----+-------+----------+------------+---------------------+------------+------------------+---------+\n",
            "only showing top 10 rows\n",
            "\n"
          ]
        }
      ],
      "source": [
        "df_ride_hour = df_ride_time.withColumn('pick_hour', hour(df_ride_time['tpep_pickup_datetime']))\n",
        "df_ride_hour.show(10)"
      ]
    },
    {
      "cell_type": "markdown",
      "metadata": {
        "id": "VqeQg-K2RYFD"
      },
      "source": [
        "In the same way, we compute **the day of the week** (from sunday to sameday) in which the trip started (0 is sunday, monday is 1...) in **pick_day**."
      ]
    },
    {
      "cell_type": "code",
      "execution_count": 17,
      "metadata": {
        "colab": {
          "base_uri": "https://localhost:8080/"
        },
        "id": "hROuQQRUdVdy",
        "outputId": "bc070b95-6bbb-48e9-82aa-755ac05003ba"
      },
      "outputs": [
        {
          "name": "stdout",
          "output_type": "stream",
          "text": [
            "+--------+--------------------+---------------------+---------------+-------------+----------+------------------+------------+------------+------------+-----------+-----+-------+----------+------------+---------------------+------------+------------------+---------+--------+\n",
            "|VendorID|tpep_pickup_datetime|tpep_dropoff_datetime|passenger_count|trip_distance|RatecodeID|store_and_fwd_flag|PULocationID|DOLocationID|payment_type|fare_amount|extra|mta_tax|tip_amount|tolls_amount|improvement_surcharge|total_amount|         ride_time|pick_hour|pick_day|\n",
            "+--------+--------------------+---------------------+---------------+-------------+----------+------------------+------------+------------+------------+-----------+-----+-------+----------+------------+---------------------+------------+------------------+---------+--------+\n",
            "|       1| 2017-01-09 11:13:28|  2017-01-09 11:25:45|              1|          3.3|         1|                 N|         263|         161|           1|       12.5|  0.0|    0.5|       2.0|         0.0|                  0.3|        15.3|12.283333335071802|       11|       2|\n",
            "|       1| 2017-01-09 11:32:27|  2017-01-09 11:36:01|              1|          0.9|         1|                 N|         186|         234|           1|        5.0|  0.0|    0.5|      1.45|         0.0|                  0.3|        7.25| 3.566666666418314|       11|       2|\n",
            "|       1| 2017-01-09 11:38:20|  2017-01-09 11:42:05|              1|          1.1|         1|                 N|         164|         161|           1|        5.5|  0.0|    0.5|       1.0|         0.0|                  0.3|         7.3|              3.75|       11|       2|\n",
            "|       1| 2017-01-09 11:52:13|  2017-01-09 11:57:36|              1|          1.1|         1|                 N|         236|          75|           1|        6.0|  0.0|    0.5|       1.7|         0.0|                  0.3|         8.5| 5.383333336561918|       11|       2|\n",
            "|       1| 2017-01-01 00:00:02|  2017-01-01 00:03:50|              1|          0.5|         1|                 N|          48|          48|           2|        4.0|  0.5|    0.5|       0.0|         0.0|                  0.3|         5.3|3.7999999970197678|        0|       1|\n",
            "|       2| 2017-01-01 00:00:02|  2017-01-01 00:39:22|              4|         7.75|         1|                 N|         186|          36|           1|       22.0|  0.5|    0.5|      4.66|         0.0|                  0.3|       27.96| 39.33333333209157|        0|       1|\n",
            "|       1| 2017-01-01 00:00:03|  2017-01-01 00:06:58|              1|          0.8|         1|                 N|         162|         161|           1|        6.0|  0.5|    0.5|      1.45|         0.0|                  0.3|        8.75|  6.91666666418314|        0|       1|\n",
            "|       1| 2017-01-01 00:00:05|  2017-01-01 00:08:33|              2|          0.9|         1|                 N|          48|          50|           1|        7.0|  0.5|    0.5|       0.0|         0.0|                  0.3|         8.3| 8.466666668653488|        0|       1|\n",
            "|       2| 2017-01-01 00:00:05|  2017-01-01 00:05:04|              5|         1.76|         1|                 N|         140|          74|           2|        7.0|  0.5|    0.5|       0.0|         0.0|                  0.3|         8.3| 4.983333334326744|        0|       1|\n",
            "|       2| 2017-01-01 00:00:05|  2017-01-01 00:15:36|              1|         8.47|         1|                 N|         138|         262|           1|       24.0|  0.5|    0.5|      7.71|        5.54|                  0.3|       38.55|15.516666669398546|        0|       1|\n",
            "+--------+--------------------+---------------------+---------------+-------------+----------+------------------+------------+------------+------------+-----------+-----+-------+----------+------------+---------------------+------------+------------------+---------+--------+\n",
            "only showing top 10 rows\n",
            "\n"
          ]
        }
      ],
      "source": [
        "# Add column with day of pick up\n",
        "df_ride_day = df_ride_hour.withColumn('pick_day', dayofweek(df_ride_hour['tpep_pickup_datetime']))\n",
        "df_ride_day.show(10)"
      ]
    },
    {
      "cell_type": "markdown",
      "metadata": {
        "id": "_0mO1ZNsdzQW"
      },
      "source": [
        "# STUDIES"
      ]
    },
    {
      "cell_type": "markdown",
      "metadata": {
        "id": "bq_lAb5ArKgp"
      },
      "source": [
        "### **QUERY 1**- Average speed of the taxis in terms of the hours"
      ]
    },
    {
      "cell_type": "code",
      "execution_count": 18,
      "metadata": {
        "id": "dRKV_B16eAcC"
      },
      "outputs": [],
      "source": [
        "import time\n",
        "import pandas as pd\n",
        "import matplotlib.pyplot as plt\n",
        "data = df_ride_day.count()\n",
        "#data is the amount of data processed"
      ]
    },
    {
      "cell_type": "markdown",
      "metadata": {
        "id": "8Pfi-PHfWzKR"
      },
      "source": [
        "For this query we have generated different rdds. First, we picked only the columns that have a role on this query and save it in *rdd_avg_speed*. After that, we created a *rdd2* with a **map** as a tuple with pick_hour as **key** and we calculate the speed of each row (trip_distance/ride_time) in km/h (we had it in miles per seconds), saving it as the **value**.\n",
        "\n",
        "So we only had to calculate **the mean**, to achieve it we first sum the values grouped by the key (hours) with a **reducebyKey** and we sort it with a **sortBy** to have the hours in the correct order. In addition we count the number of rows for each hour with a **countByKey**.\n",
        "\n",
        "Finally, we save in a list *avg_speed*, the average speed of each hour to plot the barplot as the final output."
      ]
    },
    {
      "cell_type": "code",
      "execution_count": 27,
      "metadata": {
        "colab": {
          "base_uri": "https://localhost:8080/",
          "height": 347
        },
        "id": "EmoVfDVmZGIk",
        "outputId": "16b9ea65-096b-42ef-a438-9ec743c5cdf8"
      },
      "outputs": [
        {
          "name": "stdout",
          "output_type": "stream",
          "text": [
            "Elapsed execution avg speed per hours:  14.267643213272095  s\n",
            "Amount of data processed:  964710  rows\n",
            "Processing speed:  67615.23158236843  rows/s\n"
          ]
        },
        {
          "data": {
            "image/png": "[encoded data removed]",
            "text/plain": [
              "<Figure size 432x288 with 1 Axes>"
            ]
          },
          "metadata": {
            "needs_background": "light"
          },
          "output_type": "display_data"
        }
      ],
      "source": [
        "t_stamp = time.time()\n",
        "rdd_avg_speed = df_ride_day.select(['pick_hour','trip_distance','ride_time']).rdd\n",
        "# Speed to kph\n",
        "rdd2 = rdd_avg_speed.map(lambda x: (x[0],( (x[1]*1.609) / (x[2]/60) )))\n",
        "list_speed = rdd2.reduceByKey(lambda x,y: x+y).sortBy(lambda x: x[0]).collect()\n",
        "dict_key_count = rdd2.countByKey()\n",
        "avg_speed = []\n",
        "for i in list_speed:\n",
        "  avg_speed.append((i[0], i[1] / dict_key_count[i[0]] ))\n",
        "elapsed_time = time.time() - t_stamp\n",
        "print(\"Elapsed execution avg speed per hours: \",elapsed_time,\" s\")\n",
        "print(\"Amount of data processed: \",data,\" rows\")\n",
        "print(\"Processing speed: \",(data/elapsed_time),\" rows/s\")\n",
        "x = list(zip(*avg_speed))\n",
        "plt.bar(x[0],x[1],color= 'b')\n",
        "plt.xlabel('hour')\n",
        "plt.ylabel('speed km/h')\n",
        "plt.title('Evolution of avg speed per hours')\n",
        "plt.show()"
      ]
    },
    {
      "cell_type": "markdown",
      "metadata": {
        "id": "j5kAJuIQLoX-"
      },
      "source": [
        "### **QUERY 2** - Most common trip"
      ]
    },
    {
      "cell_type": "markdown",
      "metadata": {
        "id": "0siGUIoRcO-p"
      },
      "source": [
        "For this query, we are interesting in the pick-up location and the drop-off location. The idea is to create a rdd with the couple (*'PULocationID','DOLocationID'*) as the **key** and the number of times it is repeated as the **value** (initially is 1). To obtain this rdd we use a **map** which is later **grouped by key** and counted with the **mapValues()**. Finally, we sort it to get **the 5 more common trips.**"
      ]
    },
    {
      "cell_type": "code",
      "execution_count": 29,
      "metadata": {
        "colab": {
          "base_uri": "https://localhost:8080/",
          "height": 364
        },
        "id": "Y_OtCsQyNg83",
        "outputId": "ae3aee65-3026-4e29-9666-1d9e8fc15284"
      },
      "outputs": [
        {
          "name": "stdout",
          "output_type": "stream",
          "text": [
            "Elapsed execution most common trip:  7.383286237716675  s\n",
            "Amount of data processed:  964710  rows\n",
            "Processing speed:  130661.33005542832  rows/s\n",
            "[((264, 264), 14501), ((237, 236), 3430), ((236, 236), 3129), ((236, 237), 3010), ((230, 246), 2943), ((79, 79), 2827)]\n"
          ]
        },
        {
          "data": {
            "image/png": "[encoded data removed]",
            "text/plain": [
              "<Figure size 432x288 with 1 Axes>"
            ]
          },
          "metadata": {
            "needs_background": "light"
          },
          "output_type": "display_data"
        }
      ],
      "source": [
        "t_stamp = time.time()\n",
        "rdd_trip = df_ride_day.select(['PULocationID','DOLocationID']).rdd\n",
        "rdd_trip_tuple = rdd_trip.map(lambda x: ((x[0],x[1]),1)).groupByKey().mapValues(len).sortBy(lambda x: x[1], ascending= False).take(6)\n",
        "elapsed_time = time.time() - t_stamp\n",
        "print(\"Elapsed execution most common trip: \",elapsed_time,\" s\")\n",
        "print(\"Amount of data processed: \",data,\" rows\")\n",
        "print(\"Processing speed: \",(data/elapsed_time),\" rows/s\")\n",
        "print(rdd_trip_tuple)\n",
        "y = rdd_trip_tuple[1:]\n",
        "x = list(zip(*y))\n",
        "plt.bar([str(x[0][i]) for i in range(len(x[0]))],x[1],color= 'b')\n",
        "plt.xlabel('trip')\n",
        "plt.ylabel('counts')\n",
        "plt.title('Evolution of counts per trip')\n",
        "plt.show()"
      ]
    },
    {
      "cell_type": "markdown",
      "metadata": {
        "id": "Wx9lzxvZeMtr"
      },
      "source": [
        "Then, the **most common trip** is the one with origin and destination the ID 264. Taking a look to the documentation we have that 264 correspond with the location *Unknown*, this is the reason why we have to descart it. The next 3 most common trips are related to the IDs 236 and 237 which are the \"Manhattan Upper East Side North\" and \"Manhattan Upper East Side South\". This makes sense as the **Upper East Side** is one of the most famous neighborhoods of Manhattan (and the richest one). Another common trips are \"Manhattan \n",
        ", Times Squares/Theatre District\" (ID 230) and \"Manhattan, West Chelsea, Hudson Yards\" (ID 246). "
      ]
    },
    {
      "cell_type": "markdown",
      "metadata": {
        "id": "_REtXYy0SKLy"
      },
      "source": [
        "### **QUERY 3** - Financial records"
      ]
    },
    {
      "cell_type": "markdown",
      "metadata": {
        "id": "p4QW0_hYkIhu"
      },
      "source": [
        "In the last query, we are going to find the average tip for the trips with the aeroport as destination, grouped by the number of passengers. This way, we want to see if the trips with more clients have greater tips, specially for the aeroport, which is one of the main services for a taxi driver and is related with longer distance. \n",
        "\n",
        "We will implement this query in the three Spark's API (rdd, direct sql and dataframe).\n",
        "\n",
        "---\n",
        "\n"
      ]
    },
    {
      "cell_type": "markdown",
      "metadata": {
        "id": "AKwIVMj4UHU2"
      },
      "source": [
        "**RDD IMPLEMENTATION**"
      ]
    },
    {
      "cell_type": "markdown",
      "metadata": {
        "id": "vWcTMA_soHPS"
      },
      "source": [
        "Let's start with the **RDDs.** Firstly, we **filter by** the JFK aeroport destination which is the ID 132. Hence, we keep only the rows with \"DOLocationID\"=132. After that, get two different rdds; the *rdd_key_count* which is the result of **mapping** with the number of passengers as **key** and the tip amount as **value** and **counted it by** key. And the *rdd_financial* which is the **sum of** the values **reduced by key** and **sorted**.\n",
        "\n",
        "Then, we only have to calculate the **average tip** for each number of passengers from the two rdds we have computed before. Saving all this information in the list *avg_tip*. The output is the graphic result in a **barplot** and the list"
      ]
    },
    {
      "cell_type": "code",
      "execution_count": 30,
      "metadata": {
        "colab": {
          "base_uri": "https://localhost:8080/",
          "height": 364
        },
        "id": "Xf9F4p5QSSZN",
        "outputId": "7f23ada1-92cc-4166-9b09-0842d50b111c"
      },
      "outputs": [
        {
          "name": "stdout",
          "output_type": "stream",
          "text": [
            "Elapsed execution financial records:  23.441539764404297  s\n",
            "Amount of data processed:  964710  rows\n",
            "Processing speed:  41153.86658451937  rows/s\n",
            "[(1, 5.975673758865221), (2, 5.590848484848492), (3, 5.040680473372778), (4, 4.41), (5, 5.953035230352302), (6, 5.5054940711462415)]\n"
          ]
        },
        {
          "data": {
            "image/png": "[encoded data removed]",
            "text/plain": [
              "<Figure size 432x288 with 1 Axes>"
            ]
          },
          "metadata": {
            "needs_background": "light"
          },
          "output_type": "display_data"
        }
      ],
      "source": [
        "t_stamp = time.time()\n",
        "rdd_financial_records = df_ride_day.select(['passenger_count','tip_amount','DOLocationID']).rdd\n",
        "rdd_filtered = rdd_financial_records.filter(lambda x: x[2] == 132)\n",
        "rdd_key_count = rdd_filtered.map(lambda x: (x[0],x[1])).sortByKey().countByKey() #It is a dictionary\n",
        "rdd_financial = rdd_filtered.map(lambda x: (x[0],x[1])).reduceByKey(lambda x,y: x+y).sortByKey().collect()\n",
        "avg_tip = []\n",
        "for i in range(len(rdd_financial)):\n",
        "  avg_tip.append((rdd_financial[i][0], rdd_financial[i][1]/rdd_key_count[i+1])) \n",
        "elapsed_time = time.time() - t_stamp\n",
        "print(\"Elapsed execution financial records: \",elapsed_time,\" s\")\n",
        "print(\"Amount of data processed: \",data,\" rows\")\n",
        "print(\"Processing speed: \",(data/elapsed_time),\" rows/s\")\n",
        "print(avg_tip)\n",
        "x = list(zip(*avg_tip))\n",
        "plt.bar(x[0],x[1],color= 'b')\n",
        "plt.xlabel('number of passengers')\n",
        "plt.ylabel('tip mean')\n",
        "plt.title('Evolution of tip mean per number of passengers')\n",
        "plt.show()"
      ]
    },
    {
      "cell_type": "markdown",
      "metadata": {
        "id": "oTGH-y4vcc8m"
      },
      "source": [
        "**SQL IMPLEMENTATION**"
      ]
    },
    {
      "cell_type": "markdown",
      "metadata": {
        "id": "3Ui_-oKks1M_"
      },
      "source": [
        "Now, we implement the query with the direct SQL API, which is not necessary to  explain due to it's simplicity."
      ]
    },
    {
      "cell_type": "code",
      "execution_count": 33,
      "metadata": {
        "colab": {
          "base_uri": "https://localhost:8080/"
        },
        "id": "5l3CDLy2ccCA",
        "outputId": "d4d9740f-f7e9-417c-98e8-befaa86e3b1c"
      },
      "outputs": [
        {
          "name": "stdout",
          "output_type": "stream",
          "text": [
            "+---------------+------------------+\n",
            "|passenger_count|   avg(tip_amount)|\n",
            "+---------------+------------------+\n",
            "|              1| 5.975673758865221|\n",
            "|              2| 5.590848484848492|\n",
            "|              3| 5.040680473372778|\n",
            "|              4|              4.41|\n",
            "|              5| 5.953035230352302|\n",
            "|              6|5.5054940711462415|\n",
            "+---------------+------------------+\n",
            "\n",
            "Elapsed execution financial records:  4.234920501708984  s\n",
            "Amount of data processed:  964710  rows\n",
            "Processing speed:  227798.84524649172  rows/s\n"
          ]
        }
      ],
      "source": [
        "t_stamp = time.time()\n",
        "df_financial_records = df_ride_day.select(['passenger_count','tip_amount','DOLocationID'])\n",
        "df_financial_records.createOrReplaceTempView('tips')\n",
        "df_tips = spark.sql('SELECT passenger_count, avg(tip_amount) from tips where DOLocationID == 132 group by passenger_count order by 1;')\n",
        "df_tips.show()\n",
        "elapsed_time = time.time() - t_stamp\n",
        "print(\"Elapsed execution financial records: \",elapsed_time,\" s\")\n",
        "print(\"Amount of data processed: \",data,\" rows\")\n",
        "print(\"Processing speed: \",(data/elapsed_time),\" rows/s\")"
      ]
    },
    {
      "cell_type": "code",
      "execution_count": 23,
      "metadata": {
        "colab": {
          "base_uri": "https://localhost:8080/",
          "height": 237
        },
        "id": "AICCSpwmt2Dm",
        "outputId": "7d51257b-b188-4d15-c321-cea2293b3ba6"
      },
      "outputs": [
        {
          "data": {
            "text/html": [
              "\n",
              "  <div id=\"df-d500b40b-8d90-4265-80ff-b62c0d31e31e\">\n",
              "    <div class=\"colab-df-container\">\n",
              "      <div>\n",
              "<style scoped>\n",
              "    .dataframe tbody tr th:only-of-type {\n",
              "        vertical-align: middle;\n",
              "    }\n",
              "\n",
              "    .dataframe tbody tr th {\n",
              "        vertical-align: top;\n",
              "    }\n",
              "\n",
              "    .dataframe thead th {\n",
              "        text-align: right;\n",
              "    }\n",
              "</style>\n",
              "<table border=\"1\" class=\"dataframe\">\n",
              "  <thead>\n",
              "    <tr style=\"text-align: right;\">\n",
              "      <th></th>\n",
              "      <th>passenger_count</th>\n",
              "      <th>avg(tip_amount)</th>\n",
              "    </tr>\n",
              "  </thead>\n",
              "  <tbody>\n",
              "    <tr>\n",
              "      <th>0</th>\n",
              "      <td>1</td>\n",
              "      <td>5.975674</td>\n",
              "    </tr>\n",
              "    <tr>\n",
              "      <th>1</th>\n",
              "      <td>2</td>\n",
              "      <td>5.590848</td>\n",
              "    </tr>\n",
              "    <tr>\n",
              "      <th>2</th>\n",
              "      <td>3</td>\n",
              "      <td>5.040680</td>\n",
              "    </tr>\n",
              "    <tr>\n",
              "      <th>3</th>\n",
              "      <td>4</td>\n",
              "      <td>4.410000</td>\n",
              "    </tr>\n",
              "    <tr>\n",
              "      <th>4</th>\n",
              "      <td>5</td>\n",
              "      <td>5.953035</td>\n",
              "    </tr>\n",
              "    <tr>\n",
              "      <th>5</th>\n",
              "      <td>6</td>\n",
              "      <td>5.505494</td>\n",
              "    </tr>\n",
              "  </tbody>\n",
              "</table>\n",
              "</div>\n",
              "      <button class=\"colab-df-convert\" onclick=\"convertToInteractive('df-d500b40b-8d90-4265-80ff-b62c0d31e31e')\"\n",
              "              title=\"Convert this dataframe to an interactive table.\"\n",
              "              style=\"display:none;\">\n",
              "        \n",
              "  <svg xmlns=\"http://www.w3.org/2000/svg\" height=\"24px\"viewBox=\"0 0 24 24\"\n",
              "       width=\"24px\">\n",
              "    <path d=\"M0 0h24v24H0V0z\" fill=\"none\"/>\n",
              "    <path d=\"M18.56 5.44l.94 2.06.94-2.06 2.06-.94-2.06-.94-.94-2.06-.94 2.06-2.06.94zm-11 1L8.5 8.5l.94-2.06 2.06-.94-2.06-.94L8.5 2.5l-.94 2.06-2.06.94zm10 10l.94 2.06.94-2.06 2.06-.94-2.06-.94-.94-2.06-.94 2.06-2.06.94z\"/><path d=\"M17.41 7.96l-1.37-1.37c-.4-.4-.92-.59-1.43-.59-.52 0-1.04.2-1.43.59L10.3 9.45l-7.72 7.72c-.78.78-.78 2.05 0 2.83L4 21.41c.39.39.9.59 1.41.59.51 0 1.02-.2 1.41-.59l7.78-7.78 2.81-2.81c.8-.78.8-2.07 0-2.86zM5.41 20L4 18.59l7.72-7.72 1.47 1.35L5.41 20z\"/>\n",
              "  </svg>\n",
              "      </button>\n",
              "      \n",
              "  <style>\n",
              "    .colab-df-container {\n",
              "      display:flex;\n",
              "      flex-wrap:wrap;\n",
              "      gap: 12px;\n",
              "    }\n",
              "\n",
              "    .colab-df-convert {\n",
              "      background-color: #E8F0FE;\n",
              "      border: none;\n",
              "      border-radius: 50%;\n",
              "      cursor: pointer;\n",
              "      display: none;\n",
              "      fill: #1967D2;\n",
              "      height: 32px;\n",
              "      padding: 0 0 0 0;\n",
              "      width: 32px;\n",
              "    }\n",
              "\n",
              "    .colab-df-convert:hover {\n",
              "      background-color: #E2EBFA;\n",
              "      box-shadow: 0px 1px 2px rgba(60, 64, 67, 0.3), 0px 1px 3px 1px rgba(60, 64, 67, 0.15);\n",
              "      fill: #174EA6;\n",
              "    }\n",
              "\n",
              "    [theme=dark] .colab-df-convert {\n",
              "      background-color: #3B4455;\n",
              "      fill: #D2E3FC;\n",
              "    }\n",
              "\n",
              "    [theme=dark] .colab-df-convert:hover {\n",
              "      background-color: #434B5C;\n",
              "      box-shadow: 0px 1px 3px 1px rgba(0, 0, 0, 0.15);\n",
              "      filter: drop-shadow(0px 1px 2px rgba(0, 0, 0, 0.3));\n",
              "      fill: #FFFFFF;\n",
              "    }\n",
              "  </style>\n",
              "\n",
              "      <script>\n",
              "        const buttonEl =\n",
              "          document.querySelector('#df-d500b40b-8d90-4265-80ff-b62c0d31e31e button.colab-df-convert');\n",
              "        buttonEl.style.display =\n",
              "          google.colab.kernel.accessAllowed ? 'block' : 'none';\n",
              "\n",
              "        async function convertToInteractive(key) {\n",
              "          const element = document.querySelector('#df-d500b40b-8d90-4265-80ff-b62c0d31e31e');\n",
              "          const dataTable =\n",
              "            await google.colab.kernel.invokeFunction('convertToInteractive',\n",
              "                                                     [key], {});\n",
              "          if (!dataTable) return;\n",
              "\n",
              "          const docLinkHtml = 'Like what you see? Visit the ' +\n",
              "            '<a target=\"_blank\" href=https://colab.research.google.com/notebooks/data_table.ipynb>data table notebook</a>'\n",
              "            + ' to learn more about interactive tables.';\n",
              "          element.innerHTML = '';\n",
              "          dataTable['output_type'] = 'display_data';\n",
              "          await google.colab.output.renderOutput(dataTable, element);\n",
              "          const docLink = document.createElement('div');\n",
              "          docLink.innerHTML = docLinkHtml;\n",
              "          element.appendChild(docLink);\n",
              "        }\n",
              "      </script>\n",
              "    </div>\n",
              "  </div>\n",
              "  "
            ],
            "text/plain": [
              "   passenger_count  avg(tip_amount)\n",
              "0                1         5.975674\n",
              "1                2         5.590848\n",
              "2                3         5.040680\n",
              "3                4         4.410000\n",
              "4                5         5.953035\n",
              "5                6         5.505494"
            ]
          },
          "execution_count": 23,
          "metadata": {},
          "output_type": "execute_result"
        }
      ],
      "source": [
        "df_tips.toPandas()"
      ]
    },
    {
      "cell_type": "markdown",
      "metadata": {
        "id": "Q_aTsWbMMYX2"
      },
      "source": [
        "**DF IMPLEMENTATION**"
      ]
    },
    {
      "cell_type": "markdown",
      "metadata": {
        "id": "LFtdvHOMtrcg"
      },
      "source": [
        "Finally, we proccede with the **Dataframe implementation**. Similarly to the other query, we first **filter by** the ID location of the airport. Here we have some direct function that do the task straigh-forward. The idea, again, is to **group by** number of passengers and apply the **mean agreggation function** which should be sorted."
      ]
    },
    {
      "cell_type": "code",
      "execution_count": 34,
      "metadata": {
        "colab": {
          "base_uri": "https://localhost:8080/"
        },
        "id": "qj7NbmmUgRzz",
        "outputId": "2dc7212a-30fa-447f-d2b4-9dbf0b902008"
      },
      "outputs": [
        {
          "name": "stdout",
          "output_type": "stream",
          "text": [
            "+---------------+------------------+\n",
            "|passenger_count|   avg(tip_amount)|\n",
            "+---------------+------------------+\n",
            "|              1| 5.975673758865221|\n",
            "|              2| 5.590848484848492|\n",
            "|              3| 5.040680473372778|\n",
            "|              4|              4.41|\n",
            "|              5| 5.953035230352302|\n",
            "|              6|5.5054940711462415|\n",
            "+---------------+------------------+\n",
            "\n",
            "Elapsed execution financial records:  3.2394566535949707  s\n",
            "Amount of data processed:  964710  rows\n",
            "Processing speed:  297799.94090349006  rows/s\n"
          ]
        }
      ],
      "source": [
        "from pyspark.sql import functions as F\n",
        "t_stamp = time.time()\n",
        "df_financial_records = df_ride_day.select(['passenger_count','tip_amount','DOLocationID'])\n",
        "df_groups_tips = df_financial_records.filter('DOLocationID == 132').groupBy('passenger_count').agg(F.mean('tip_amount')).sort('passenger_count')\n",
        "df_groups_tips.show()\n",
        "elapsed_time = time.time() - t_stamp\n",
        "print(\"Elapsed execution financial records: \",elapsed_time,\" s\")\n",
        "print(\"Amount of data processed: \",data,\" rows\")\n",
        "print(\"Processing speed: \",(data/elapsed_time),\" rows/s\")"
      ]
    },
    {
      "cell_type": "code",
      "execution_count": 25,
      "metadata": {
        "colab": {
          "base_uri": "https://localhost:8080/",
          "height": 237
        },
        "id": "7d0vFT2juWOX",
        "outputId": "359df4fc-eee0-4d41-824e-21f2f7926514"
      },
      "outputs": [
        {
          "data": {
            "text/html": [
              "\n",
              "  <div id=\"df-a499d0e1-8832-4323-8738-aa8481ea7ca0\">\n",
              "    <div class=\"colab-df-container\">\n",
              "      <div>\n",
              "<style scoped>\n",
              "    .dataframe tbody tr th:only-of-type {\n",
              "        vertical-align: middle;\n",
              "    }\n",
              "\n",
              "    .dataframe tbody tr th {\n",
              "        vertical-align: top;\n",
              "    }\n",
              "\n",
              "    .dataframe thead th {\n",
              "        text-align: right;\n",
              "    }\n",
              "</style>\n",
              "<table border=\"1\" class=\"dataframe\">\n",
              "  <thead>\n",
              "    <tr style=\"text-align: right;\">\n",
              "      <th></th>\n",
              "      <th>passenger_count</th>\n",
              "      <th>avg(tip_amount)</th>\n",
              "    </tr>\n",
              "  </thead>\n",
              "  <tbody>\n",
              "    <tr>\n",
              "      <th>0</th>\n",
              "      <td>1</td>\n",
              "      <td>5.975674</td>\n",
              "    </tr>\n",
              "    <tr>\n",
              "      <th>1</th>\n",
              "      <td>2</td>\n",
              "      <td>5.590848</td>\n",
              "    </tr>\n",
              "    <tr>\n",
              "      <th>2</th>\n",
              "      <td>3</td>\n",
              "      <td>5.040680</td>\n",
              "    </tr>\n",
              "    <tr>\n",
              "      <th>3</th>\n",
              "      <td>4</td>\n",
              "      <td>4.410000</td>\n",
              "    </tr>\n",
              "    <tr>\n",
              "      <th>4</th>\n",
              "      <td>5</td>\n",
              "      <td>5.953035</td>\n",
              "    </tr>\n",
              "    <tr>\n",
              "      <th>5</th>\n",
              "      <td>6</td>\n",
              "      <td>5.505494</td>\n",
              "    </tr>\n",
              "  </tbody>\n",
              "</table>\n",
              "</div>\n",
              "      <button class=\"colab-df-convert\" onclick=\"convertToInteractive('df-a499d0e1-8832-4323-8738-aa8481ea7ca0')\"\n",
              "              title=\"Convert this dataframe to an interactive table.\"\n",
              "              style=\"display:none;\">\n",
              "        \n",
              "  <svg xmlns=\"http://www.w3.org/2000/svg\" height=\"24px\"viewBox=\"0 0 24 24\"\n",
              "       width=\"24px\">\n",
              "    <path d=\"M0 0h24v24H0V0z\" fill=\"none\"/>\n",
              "    <path d=\"M18.56 5.44l.94 2.06.94-2.06 2.06-.94-2.06-.94-.94-2.06-.94 2.06-2.06.94zm-11 1L8.5 8.5l.94-2.06 2.06-.94-2.06-.94L8.5 2.5l-.94 2.06-2.06.94zm10 10l.94 2.06.94-2.06 2.06-.94-2.06-.94-.94-2.06-.94 2.06-2.06.94z\"/><path d=\"M17.41 7.96l-1.37-1.37c-.4-.4-.92-.59-1.43-.59-.52 0-1.04.2-1.43.59L10.3 9.45l-7.72 7.72c-.78.78-.78 2.05 0 2.83L4 21.41c.39.39.9.59 1.41.59.51 0 1.02-.2 1.41-.59l7.78-7.78 2.81-2.81c.8-.78.8-2.07 0-2.86zM5.41 20L4 18.59l7.72-7.72 1.47 1.35L5.41 20z\"/>\n",
              "  </svg>\n",
              "      </button>\n",
              "      \n",
              "  <style>\n",
              "    .colab-df-container {\n",
              "      display:flex;\n",
              "      flex-wrap:wrap;\n",
              "      gap: 12px;\n",
              "    }\n",
              "\n",
              "    .colab-df-convert {\n",
              "      background-color: #E8F0FE;\n",
              "      border: none;\n",
              "      border-radius: 50%;\n",
              "      cursor: pointer;\n",
              "      display: none;\n",
              "      fill: #1967D2;\n",
              "      height: 32px;\n",
              "      padding: 0 0 0 0;\n",
              "      width: 32px;\n",
              "    }\n",
              "\n",
              "    .colab-df-convert:hover {\n",
              "      background-color: #E2EBFA;\n",
              "      box-shadow: 0px 1px 2px rgba(60, 64, 67, 0.3), 0px 1px 3px 1px rgba(60, 64, 67, 0.15);\n",
              "      fill: #174EA6;\n",
              "    }\n",
              "\n",
              "    [theme=dark] .colab-df-convert {\n",
              "      background-color: #3B4455;\n",
              "      fill: #D2E3FC;\n",
              "    }\n",
              "\n",
              "    [theme=dark] .colab-df-convert:hover {\n",
              "      background-color: #434B5C;\n",
              "      box-shadow: 0px 1px 3px 1px rgba(0, 0, 0, 0.15);\n",
              "      filter: drop-shadow(0px 1px 2px rgba(0, 0, 0, 0.3));\n",
              "      fill: #FFFFFF;\n",
              "    }\n",
              "  </style>\n",
              "\n",
              "      <script>\n",
              "        const buttonEl =\n",
              "          document.querySelector('#df-a499d0e1-8832-4323-8738-aa8481ea7ca0 button.colab-df-convert');\n",
              "        buttonEl.style.display =\n",
              "          google.colab.kernel.accessAllowed ? 'block' : 'none';\n",
              "\n",
              "        async function convertToInteractive(key) {\n",
              "          const element = document.querySelector('#df-a499d0e1-8832-4323-8738-aa8481ea7ca0');\n",
              "          const dataTable =\n",
              "            await google.colab.kernel.invokeFunction('convertToInteractive',\n",
              "                                                     [key], {});\n",
              "          if (!dataTable) return;\n",
              "\n",
              "          const docLinkHtml = 'Like what you see? Visit the ' +\n",
              "            '<a target=\"_blank\" href=https://colab.research.google.com/notebooks/data_table.ipynb>data table notebook</a>'\n",
              "            + ' to learn more about interactive tables.';\n",
              "          element.innerHTML = '';\n",
              "          dataTable['output_type'] = 'display_data';\n",
              "          await google.colab.output.renderOutput(dataTable, element);\n",
              "          const docLink = document.createElement('div');\n",
              "          docLink.innerHTML = docLinkHtml;\n",
              "          element.appendChild(docLink);\n",
              "        }\n",
              "      </script>\n",
              "    </div>\n",
              "  </div>\n",
              "  "
            ],
            "text/plain": [
              "   passenger_count  avg(tip_amount)\n",
              "0                1         5.975674\n",
              "1                2         5.590848\n",
              "2                3         5.040680\n",
              "3                4         4.410000\n",
              "4                5         5.953035\n",
              "5                6         5.505494"
            ]
          },
          "execution_count": 25,
          "metadata": {},
          "output_type": "execute_result"
        }
      ],
      "source": [
        "df_groups_tips.toPandas()"
      ]
    },
    {
      "cell_type": "markdown",
      "metadata": {
        "id": "SARp4lhDuJSS"
      },
      "source": [
        "As expected, the fastest API's spark is **dataframe**, followed by **SQL** and finally **RDDs**. First, let's define what means each of these terms and explain why the previous statement is true.\n",
        "\n",
        "*   **RDD** is a distributed collection of data elements spread across many machines in the cluster. RDDs are a set of Java or Scala objects representing data. \n",
        "*   **DataFrame** is a distributed collection of data organized into named columns. It is conceptually equal to a table in a relational database.\n",
        "\n",
        "*   **DataSet (SQL)** is an extension of DataFrame API that provides the functionality of – type-safe, object-oriented programming interface of the RDD API and performance benefits of the Catalyst query optimizer and off heap storage mechanism of a DataFrame API.\n",
        "\n",
        "\n",
        "The **RDDs** are defined as the distributed collection of the data elements without any schema. The **Dataset (SQL)** is an extension of the Dataframe with more added features like type-safety and object-oriented interface. The **Dataframes** is defined as the distributed collection organized into named columns.\n",
        "\n",
        "The **Dataframes** provide API quickly to perform aggregation operations. The **RDDs** are slower than both the **Dataframes** and the **Datasets (SQL)** to perform simple functions like data grouping. The **Dataset (SQL)** is faster than the **RDDs** but is a bit slower than **Dataframes**. Hence, it performs aggregation faster than **RDDs** and the **Dataset (SQL)**.\n",
        "\n"
      ]
    },
    {
      "cell_type": "markdown",
      "metadata": {
        "id": "8vSJmrvBU_FK"
      },
      "source": [
        "***Table comparing execution times with 1 core vs. 2 cores***\n",
        "\n",
        "| Query       | Time (1 core) | Time (2 cores) | Speed-Up |\n",
        "|-------------|---------------|----------------|----------|\n",
        "| Query 1     | 21.511 s      | 14.267 s       | 1.507    |\n",
        "| Query 2     | 10.861 s      | 7.383 s        | 1.471    |\n",
        "| Query 3 RDD | 39.267 s      | 23.441 s       | 1.675    |\n",
        "| Query 3 SQL | 5.604 s       | 4.235 s        | 1.323    |\n",
        "| Query 3 DF  | 5.242 s       | 3.239 s        | 1.618    |\n",
        "\n",
        "As we can see from the previous table, when we execute our PySpark application with 2 cores instead of 1 core, the execution times are reduced. Therefore, we can affirm that Spark's API takes advantage of multicore computation.\n",
        "It would be interesting to test Spark's API in another environment with a greater number of cores, and analyse how the problem scales when more hardware is used to solve it."
      ]
    }
  ],
  "metadata": {
    "colab": {
      "collapsed_sections": [],
      "provenance": []
    },
    "kernelspec": {
      "display_name": "Python 3.9.10 64-bit",
      "language": "python",
      "name": "python3"
    },
    "language_info": {
      "name": "python",
      "version": "3.9.10"
    },
    "vscode": {
      "interpreter": {
        "hash": "007c45aa1c83a7a5623dcecdffa9d56cdaa1a0ee53737d9051043b41d1225f6d"
      }
    }
  },
  "nbformat": 4,
  "nbformat_minor": 0
}
